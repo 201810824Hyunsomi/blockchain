{
 "cells": [
  {
   "cell_type": "markdown",
   "metadata": {},
   "source": [
    "## 201810824 현소미"
   ]
  },
  {
   "cell_type": "markdown",
   "metadata": {},
   "source": [
    "## 1-1답 geth@8446 admin.nodeInfo 출력"
   ]
  },
  {
   "cell_type": "code",
   "execution_count": 56,
   "metadata": {},
   "outputs": [
    {
     "name": "stdout",
     "output_type": "stream",
     "text": [
      "{\n",
      "  eth: {\n",
      "    config: {\n",
      "      chainId: 36,\n",
      "      eip150Hash: \"0x0000000000000000000000000000000000000000000000000000000000000000\",\n",
      "      eip155Block: 0,\n",
      "      eip158Block: 0,\n",
      "      homesteadBlock: 0\n",
      "    },\n",
      "    difficulty: 87981407,\n",
      "    genesis: \"0x5704d029fe80f4fb605c0cb5e31d591511f10a46a0cb8166f97d8d559f9bc5b0\",\n",
      "    head: \"0x4395434813856174f0c05569e5a3e49617cdf2859e5bee6948187d3c520d4f1f\",\n",
      "    network: 36\n",
      "  }\n",
      "}\n"
     ]
    }
   ],
   "source": [
    "!geth --exec \"admin.nodeInfo.protocols\" attach http://localhost:8446"
   ]
  },
  {
   "cell_type": "code",
   "execution_count": 57,
   "metadata": {},
   "outputs": [
    {
     "name": "stdout",
     "output_type": "stream",
     "text": [
      "Overwriting midterm1-1.js\n"
     ]
    }
   ],
   "source": [
    "%%writefile midterm1-1.js\n",
    "console.log('1-2 accounts: ', eth.accounts);\n",
    "console.log('1-2 blocknumber: ', eth.blockNumber);\n",
    "var bal=eth.getBalance(eth.accounts[0]);\n",
    "console.log('1-2 balance in ether: ', web3.fromWei(bal, \"ether\"));\n",
    "var bal1=eth.getBalance(eth.coinbase);\n",
    "var bal2_before=eth.getBalance(eth.accounts[1]);\n",
    "console.log('sender balance in ether: ', web3.fromWei(bal1,\"ether\"));\n",
    "console.log('receiver balance in ether: ', web3.fromWei(bal2_before,\"ether\"));\n",
    "var t=eth.sendTransaction({from:eth.accounts[0], to:eth.accounts[1],value:web3.toWei(1.1,\"ether\")});\n",
    "console.log('1-3 transactionhash: ', t);\n",
    "console.log('...mining start');\n",
    "miner.start(1);admin.sleepBlocks(1);miner.stop();\n",
    "console.log('mining done...');\n",
    "console.log(\"1-4 transaction receipt :\",JSON.stringify(eth.getTransactionReceipt(t)));\n",
    "var bal2_after=eth.getBalance(eth.accounts[1]);\n",
    "console.log('1-5 :', bal2_after);\n",
    "console.log('1-5balance difference: ',bal2_after-bal2_before);\n",
    "console.log('1-5blocknumber: ', eth.blockNumber);"
   ]
  },
  {
   "cell_type": "markdown",
   "metadata": {},
   "source": [
    "## 1-2,1-3,1-4,1-5답 "
   ]
  },
  {
   "cell_type": "code",
   "execution_count": 58,
   "metadata": {},
   "outputs": [
    {
     "name": "stdout",
     "output_type": "stream",
     "text": [
      "1-2 accounts:  0x54e81eae4e6a73a977ee3d56e75df4e02b059455,0x85fcab4af316d42bb1e5e03f7ef7ccd1c04595f7\n",
      "1-2 blocknumber:  627\n",
      "1-2 balance in ether:  3121.8\n",
      "sender balance in ether:  3121.8\n",
      "receiver balance in ether:  13.2\n",
      "1-3 transactionhash:  0x9e344c55532a87504e95d979d8af88d461928c0b0b4871b515495bc09ff53da3\n",
      "...mining start\n",
      "mining done...\n",
      "1-4 transaction receipt : {\"blockHash\":\"0xaa6e40577ce6ad81c2db2d3e885209c4df4ac6c6cb201ea9abd06a67b5b0c508\",\"blockNumber\":628,\"contractAddress\":null,\"cumulativeGasUsed\":21000,\"from\":\"0x54e81eae4e6a73a977ee3d56e75df4e02b059455\",\"gasUsed\":21000,\"logs\":[],\"logsBloom\":\"0x00000000000000000000000000000000000000000000000000000000000000000000000000000000000000000000000000000000000000000000000000000000000000000000000000000000000000000000000000000000000000000000000000000000000000000000000000000000000000000000000000000000000000000000000000000000000000000000000000000000000000000000000000000000000000000000000000000000000000000000000000000000000000000000000000000000000000000000000000000000000000000000000000000000000000000000000000000000000000000000000000000000000000000000000000000000\",\"root\":\"0x18f7f466543c440b043e2033609947ac7d71ff98eeeb89b8b9445e41264fa487\",\"to\":\"0x85fcab4af316d42bb1e5e03f7ef7ccd1c04595f7\",\"transactionHash\":\"0x9e344c55532a87504e95d979d8af88d461928c0b0b4871b515495bc09ff53da3\",\"transactionIndex\":0}\n",
      "1-5 : 14300000000000000000\n",
      "1-5balance difference:  1100000000000000000\n",
      "1-5blocknumber:  628\n",
      "true\n"
     ]
    }
   ],
   "source": [
    "!geth --exec \"loadScript('midterm1-1.js')\" attach http://localhost:8446"
   ]
  },
  {
   "cell_type": "markdown",
   "metadata": {},
   "source": [
    "## 2-1 답"
   ]
  },
  {
   "cell_type": "code",
   "execution_count": 1,
   "metadata": {},
   "outputs": [
    {
     "name": "stdout",
     "output_type": "stream",
     "text": [
      "Overwriting src/Math.sol\n"
     ]
    }
   ],
   "source": [
    "%%writefile src/Math.sol\n",
    "pragma solidity ^0.4.25;\n",
    "contract Math {\n",
    "    uint256 a=1;\n",
    "   function powerOf2(uint input) public view returns (uint256){\n",
    "       for(uint i=0;i<input;i++){\n",
    "           a*=2;\n",
    "       }\n",
    "       return a;\n",
    "   }\n",
    "}"
   ]
  },
  {
   "cell_type": "markdown",
   "metadata": {},
   "source": [
    "## 2-2 답 abi, gas, bin 출력"
   ]
  },
  {
   "cell_type": "code",
   "execution_count": 2,
   "metadata": {},
   "outputs": [
    {
     "name": "stdout",
     "output_type": "stream",
     "text": [
      "\n",
      "======= src/Math.sol:Math =======\n",
      "Contract JSON ABI \n",
      "[{\"constant\":true,\"inputs\":[{\"name\":\"input\",\"type\":\"uint256\"}],\"name\":\"powerOf2\",\"outputs\":[{\"name\":\"\",\"type\":\"uint256\"}],\"payable\":false,\"stateMutability\":\"view\",\"type\":\"function\"}]\n"
     ]
    },
    {
     "name": "stderr",
     "output_type": "stream",
     "text": [
      "src/Math.sol:6:12: Warning: Function declared as view, but this expression (potentially) modifies the state and thus requires non-payable (the default) or payable.\n",
      "           a*=2;\n",
      "\n",
      "           ^\n"
     ]
    }
   ],
   "source": [
    "!solc --abi src/Math.sol"
   ]
  },
  {
   "cell_type": "code",
   "execution_count": 3,
   "metadata": {},
   "outputs": [
    {
     "name": "stdout",
     "output_type": "stream",
     "text": [
      "\n",
      "======= src/Math.sol:Math =======\n",
      "Binary: \n",
      "6080604052600160005534801561001557600080fd5b5060e4806100246000396000f300608060405260043610603f576000357c0100000000000000000000000000000000000000000000000000000000900463ffffffff168063bdacc0cf146044575b600080fd5b348015604f57600080fd5b50606c600480360381019080803590602001909291905050506082565b6040518082815260200191505060405180910390f35b600080600090505b8281101560ad57600260008082825402925050819055508080600101915050608a565b6000549150509190505600a165627a7a7230582054d37092c3002ecdf61d3dc4aa9b7965d66636a800fe51c8aa9887266fcf78b00029\n"
     ]
    },
    {
     "name": "stderr",
     "output_type": "stream",
     "text": [
      "src/Math.sol:6:12: Warning: Function declared as view, but this expression (potentially) modifies the state and thus requires non-payable (the default) or payable.\n",
      "           a*=2;\n",
      "\n",
      "           ^\n"
     ]
    }
   ],
   "source": [
    "!solc --bin src/Math.sol"
   ]
  },
  {
   "cell_type": "code",
   "execution_count": 4,
   "metadata": {},
   "outputs": [
    {
     "name": "stdout",
     "output_type": "stream",
     "text": [
      "\n",
      "======= src/Math.sol:Math =======\n",
      "Gas estimation:\n",
      "construction:\n",
      "   20105 + 45600 = 65705\n",
      "external:\n",
      "   powerOf2(uint256):\tinfinite\n"
     ]
    },
    {
     "name": "stderr",
     "output_type": "stream",
     "text": [
      "src/Math.sol:6:12: Warning: Function declared as view, but this expression (potentially) modifies the state and thus requires non-payable (the default) or payable.\n",
      "           a*=2;\n",
      "\n",
      "           ^\n"
     ]
    }
   ],
   "source": [
    "!solc --gas src/Math.sol"
   ]
  },
  {
   "cell_type": "markdown",
   "metadata": {},
   "source": [
    "## 답2-3 배포 스크립트 작성"
   ]
  },
  {
   "cell_type": "code",
   "execution_count": 5,
   "metadata": {},
   "outputs": [
    {
     "name": "stdout",
     "output_type": "stream",
     "text": [
      "Overwriting src/mathDeploy.js\n"
     ]
    }
   ],
   "source": [
    "%%writefile src/mathDeploy.js\n",
    "var Web3=require('web3');\n",
    "var web3;\n",
    "if (typeof web3 !== 'undefined') {\n",
    "    web3 = new Web3(web3.currentProvider);\n",
    "} else {\n",
    "    web3 = new Web3(new Web3.providers.HttpProvider(\"http://localhost:8446\"));\n",
    "}\n",
    "var _abiArray=[{\"constant\":true,\"inputs\":[{\"name\":\"input\",\"type\":\"uint256\"}],\"name\":\"powerOf2\",\"outputs\":[{\"name\":\"\",\"type\":\"uint256\"}],\"payable\":false,\"stateMutability\":\"view\",\"type\":\"function\"}];\n",
    "var _bin=\"6080604052600160005534801561001557600080fd5b5060e4806100246000396000f300608060405260043610603f576000357c0100000000000000000000000000000000000000000000000000000000900463ffffffff168063bdacc0cf146044575b600080fd5b348015604f57600080fd5b50606c600480360381019080803590602001909291905050506082565b6040518082815260200191505060405180910390f35b600080600090505b8281101560ad57600260008082825402925050819055508080600101915050608a565b6000549150509190505600a165627a7a7230582054d37092c3002ecdf61d3dc4aa9b7965d66636a800fe51c8aa9887266fcf78b00029\";\n",
    "var _contract = new web3.eth.Contract(_abiArray);\n",
    "//unlock the account with a password provided\n",
    "//web3.personal.unlockAccount(web3.eth.accounts[0],'password');\n",
    "_contract\n",
    "    .deploy({data:\"0x\"+_bin})\n",
    "    .send({from: \"0x54e81eae4e6a73a977ee3d56e75df4e02b059455\", gas: 3000000, gasPrice: '1000000000'})\n",
    "    .then(function(newContractInstance){\n",
    "        console.log(newContractInstance.options.address) // instance with the new contract address\n",
    "    });"
   ]
  },
  {
   "cell_type": "code",
   "execution_count": 6,
   "metadata": {},
   "outputs": [
    {
     "name": "stdout",
     "output_type": "stream",
     "text": [
      "0xa677E96360c770a9e61e82B9a652BD3d15d23604\n"
     ]
    }
   ],
   "source": [
    "!node src/mathDeploy.js"
   ]
  },
  {
   "cell_type": "markdown",
   "metadata": {},
   "source": [
    "## 답 2-4 사용 스크립트 작성"
   ]
  },
  {
   "cell_type": "code",
   "execution_count": 22,
   "metadata": {},
   "outputs": [
    {
     "name": "stdout",
     "output_type": "stream",
     "text": [
      "Overwriting src/mathUse.js\n"
     ]
    }
   ],
   "source": [
    "%%writefile src/mathUse.js\n",
    "var Web3=require('web3');\n",
    "var web3 = new Web3(new Web3.providers.HttpProvider(\"http://localhost:8446\"));\n",
    "var _abiArray=[{\"constant\":true,\"inputs\":[{\"name\":\"input\",\"type\":\"uint256\"}],\"name\":\"powerOf2\",\"outputs\":[{\"name\":\"\",\"type\":\"uint256\"}],\"payable\":false,\"stateMutability\":\"view\",\"type\":\"function\"}];\n",
    "var Math = new web3.eth.Contract(_abiArray,\"0xa677E96360c770a9e61e82B9a652BD3d15d23604\");\n",
    "Math.methods.powerOf2(8).send({from:\"0x54e81eae4e6a73a977ee3d56e75df4e02b059455\",gas:670000});\n",
    "Math.methods.powerOf2(8).call().then(function(uint) {console.log(uint);});\n",
    "Math.methods.powerOf2(32).send({from:\"0x54e81eae4e6a73a977ee3d56e75df4e02b059455\",gas:670000});\n",
    "Math.methods.powerOf2(32).call().then(function(uint) {console.log(uint);});"
   ]
  },
  {
   "cell_type": "markdown",
   "metadata": {},
   "source": [
    "## 답 2-4 각각 8, 32 입력결과 출력"
   ]
  },
  {
   "cell_type": "code",
   "execution_count": 8,
   "metadata": {},
   "outputs": [
    {
     "name": "stdout",
     "output_type": "stream",
     "text": [
      "256\n",
      "4294967296\n"
     ]
    }
   ],
   "source": [
    "!node src/mathUse.js"
   ]
  },
  {
   "cell_type": "markdown",
   "metadata": {},
   "source": [
    "## 2-5 못풀었습니다."
   ]
  },
  {
   "cell_type": "code",
   "execution_count": 36,
   "metadata": {},
   "outputs": [
    {
     "name": "stdout",
     "output_type": "stream",
     "text": [
      "Overwriting scripts/powerOf2.html\n"
     ]
    }
   ],
   "source": [
    "%%writefile scripts/powerOf2.html\n",
    "<!doctype>\n",
    "<html>\n",
    "<head>\n",
    "<script src=\"https://cdn.jsdelivr.net/npm/web3@0.20.5/dist/web3.min.js\"></script>\n",
    "<script type=\"text/javascript\">\n",
    "    //var Web3 = require('web3');  //can be removed\n",
    "    var web3 = new Web3(new Web3.providers.HttpProvider(\"http://localhost:8446\"));\n",
    "\n",
    "    function displaymath() {\n",
    "        //web3@0.20.x\n",
    "        var smathContract = web3.eth.contract([{\"constant\":true,\"inputs\":[{\"name\":\"input\",\"type\":\"uint256\"}],\"name\":\"powerOf2\",\"outputs\":[{\"name\":\"\",\"type\":\"uint256\"}],\"payable\":false,\"stateMutability\":\"view\",\"type\":\"function\"}]);\n",
    "        var Math = smathContract.at(\"0xa677E96360c770a9e61e82B9a652BD3d15d23604\");\n",
    "        var Math=Math.powerOf2.call(-32);\n",
    "        document.getElementById('powerOf2').innerText = \"The message from blockchain: \" + Math;\n",
    "        document.getElementById('web3ver').innerText = 'web3 version 0.20.x';\n",
    "        document.getElementById('web3coinbase').innerText = 'coinbase: ' + web3.eth.coinbase;\n",
    "\n",
    "        //web3@1.2.x - can not instanciate a contract\n",
    "        //alert(\"1.2.5\");\n",
    "        //var shelloContract = new web3.eth.Contract([{\"constant\":true,\"inputs\":[],\"name\":\"sayHello\",\"outputs\":[{\"name\":\"\",\"type\":\"string\"}],\"payable\":false,\"stateMutability\":\"pure\",\"type\":\"function\"}],\"0x28a63917122075B10BB89475CC0d519E041BE3FB\");\n",
    "        //shelloContract.methods.sayHello().call().then(function(str) {\n",
    "        //    alert(str);  //test\n",
    "        //    document.getElementById('sayhello').innerText = \"The message from blockchain: \" + str;\n",
    "        //});\n",
    "    }\n",
    "</script>\n",
    "</head>\n",
    "<body>\n",
    "    <h1>MATH</h1>\n",
    "    <button type=\"button\" onClick=\"displaymath();\">Display Math</button>\n",
    "    <div></div>\n",
    "    <div id=\"powerOf2\"></div>\n",
    "    <div id=\"web3ver\"></div>\n",
    "    <div id=\"web3coinbase\"></div>\n",
    "</body>\n",
    "</html>"
   ]
  },
  {
   "cell_type": "code",
   "execution_count": null,
   "metadata": {},
   "outputs": [],
   "source": []
  }
 ],
 "metadata": {
  "kernelspec": {
   "display_name": "Python 3",
   "language": "python",
   "name": "python3"
  },
  "language_info": {
   "codemirror_mode": {
    "name": "ipython",
    "version": 3
   },
   "file_extension": ".py",
   "mimetype": "text/x-python",
   "name": "python",
   "nbconvert_exporter": "python",
   "pygments_lexer": "ipython3",
   "version": "3.7.6"
  }
 },
 "nbformat": 4,
 "nbformat_minor": 4
}
