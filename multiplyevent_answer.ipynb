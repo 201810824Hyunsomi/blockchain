{
 "cells": [
  {
   "cell_type": "code",
   "execution_count": 3,
   "metadata": {},
   "outputs": [
    {
     "name": "stdout",
     "output_type": "stream",
     "text": [
      "Overwriting src/Multiply7Event.sol\n"
     ]
    }
   ],
   "source": [
    "%%writefile src/Multiply7Event.sol\n",
    "pragma solidity ^0.5.10;\n",
    "contract Multiply7Event {\n",
    "    event Print(address _addr, uint256 timestamp, uint res);\n",
    "    //function multiply(uint input) public returns(uint) {\n",
    "    function multiply(uint input) public {\n",
    "        uint res = input * 7;\n",
    "        emit Print(msg.sender, now, res);\n",
    "        //return res;\n",
    "    }\n",
    "}"
   ]
  },
  {
   "cell_type": "code",
   "execution_count": 4,
   "metadata": {},
   "outputs": [
    {
     "name": "stdout",
     "output_type": "stream",
     "text": [
      "\n",
      "======= src/Multiply7Event.sol:Multiply7Event =======\n",
      "Gas estimation:\n",
      "construction:\n",
      "   105 + 53600 = 53705\n",
      "external:\n",
      "   multiply(uint256):\t1862\n",
      "Binary: \n",
      "6080604052348015600f57600080fd5b5061010c8061001f6000396000f3fe6080604052348015600f57600080fd5b506004361060285760003560e01c8063c6888fa114602d575b600080fd5b605660048036036020811015604157600080fd5b81019080803590602001909291905050506058565b005b60006007820290507f91da4985ab616136202f4e81fd2d8cac1eb12591132d609cece407f7c6fb9205334283604051808473ffffffffffffffffffffffffffffffffffffffff1673ffffffffffffffffffffffffffffffffffffffff168152602001838152602001828152602001935050505060405180910390a1505056fea265627a7a72305820617b9abfc7fae820c6ca8a5993a0554c413f36b43d73915d2250dbd5f00995c764736f6c634300050a0032\n",
      "Contract JSON ABI \n",
      "[{\"constant\":false,\"inputs\":[{\"name\":\"input\",\"type\":\"uint256\"}],\"name\":\"multiply\",\"outputs\":[],\"payable\":false,\"stateMutability\":\"nonpayable\",\"type\":\"function\"},{\"anonymous\":false,\"inputs\":[{\"indexed\":false,\"name\":\"_addr\",\"type\":\"address\"},{\"indexed\":false,\"name\":\"timestamp\",\"type\":\"uint256\"},{\"indexed\":false,\"name\":\"res\",\"type\":\"uint256\"}],\"name\":\"Print\",\"type\":\"event\"}]\n"
     ]
    }
   ],
   "source": [
    "!solc --gas --abi --bin src/Multiply7Event.sol"
   ]
  },
  {
   "cell_type": "code",
   "execution_count": 6,
   "metadata": {},
   "outputs": [
    {
     "name": "stdout",
     "output_type": "stream",
     "text": [
      "Overwriting src/Multiply7EventDeploy.js\n"
     ]
    }
   ],
   "source": [
    "%%writefile src/Multiply7EventDeploy.js\n",
    "var Web3=require('web3');\n",
    "var web3 = new Web3(new Web3.providers.HttpProvider(\"http://localhost:8345\"));\n",
    "var _abiArray=[{\"constant\":false,\"inputs\":[{\"name\":\"input\",\"type\":\"uint256\"}],\"name\":\"multiply\",\"outputs\":[],\"payable\":false,\"stateMutability\":\"nonpayable\",\"type\":\"function\"},{\"anonymous\":false,\"inputs\":[{\"indexed\":false,\"name\":\"_addr\",\"type\":\"address\"},{\"indexed\":false,\"name\":\"timestamp\",\"type\":\"uint256\"},{\"indexed\":false,\"name\":\"res\",\"type\":\"uint256\"}],\"name\":\"Print\",\"type\":\"event\"}];\n",
    "var _bin=\"0x\" + \"6080604052348015600f57600080fd5b5061010c8061001f6000396000f3fe6080604052348015600f57600080fd5b506004361060285760003560e01c8063c6888fa114602d575b600080fd5b605660048036036020811015604157600080fd5b81019080803590602001909291905050506058565b005b60006007820290507f91da4985ab616136202f4e81fd2d8cac1eb12591132d609cece407f7c6fb9205334283604051808473ffffffffffffffffffffffffffffffffffffffff1673ffffffffffffffffffffffffffffffffffffffff168152602001838152602001828152602001935050505060405180910390a1505056fea265627a7a72305820617b9abfc7fae820c6ca8a5993a0554c413f36b43d73915d2250dbd5f00995c764736f6c634300050a0032\";\n",
    "//unlock the account with a password provided\n",
    "//web3.personal.unlockAccount(web3.eth.accounts[0],'password');\n",
    "async function deploy() {\n",
    "    const accounts = await web3.eth.getAccounts();\n",
    "    console.log(\"Deploying the contract from \" + accounts[0]);\n",
    "    var deployed = await new web3.eth.Contract(_abiArray)\n",
    "        .deploy({data: _bin})\n",
    "        .send({from: accounts[0], gas: 1000000, gasPrice: '1000000000'}, function(err, transactionHash) {\n",
    "                if(!err) console.log(\"hash: \" + transactionHash); \n",
    "        })\n",
    "        //.then(function(newContractInstance) {\n",
    "        //    console.log(newContractInstance.options.address)\n",
    "        //});\n",
    "    console.log(\"---> The contract deployed to: \" + deployed.options.address)\n",
    "}\n",
    "\n",
    "deploy()"
   ]
  },
  {
   "cell_type": "code",
   "execution_count": 7,
   "metadata": {},
   "outputs": [
    {
     "name": "stdout",
     "output_type": "stream",
     "text": [
      "Deploying the contract from 0x0c6128daD2232C486Ed51B64D38E50910039BDBc\n",
      "hash: 0x5ec4c94c0343710060b043fb8327a92e4baeed971102f558f14cf858559e4b6a\n",
      "---> The contract deployed to: 0x1be2de72761B581b825e874cdAAdd3c56000b3F7\n"
     ]
    }
   ],
   "source": [
    "!node src/Multiply7EventDeploy.js"
   ]
  },
  {
   "cell_type": "code",
   "execution_count": 8,
   "metadata": {},
   "outputs": [
    {
     "name": "stdout",
     "output_type": "stream",
     "text": [
      "Overwriting src/Multiply7EventUse.js\n"
     ]
    }
   ],
   "source": [
    "%%writefile src/Multiply7EventUse.js\n",
    "var Web3=require('web3');\n",
    "var web3;\n",
    "if (typeof web3 !== 'undefined') {\n",
    "    web3 = new Web3(web3.currentProvider);\n",
    "} else {\n",
    "    var web3 = new Web3(new Web3.providers.WebsocketProvider(\"http://localhost:8345\"));\n",
    "}\n",
    "var _abiArray=[{\"constant\":false,\"inputs\":[{\"name\":\"input\",\"type\":\"uint256\"}],\"name\":\"multiply\",\"outputs\":[],\"payable\":false,\"stateMutability\":\"nonpayable\",\"type\":\"function\"},{\"anonymous\":false,\"inputs\":[{\"indexed\":false,\"name\":\"_addr\",\"type\":\"address\"},{\"indexed\":false,\"name\":\"timestamp\",\"type\":\"uint256\"},{\"indexed\":false,\"name\":\"res\",\"type\":\"uint256\"}],\"name\":\"Print\",\"type\":\"event\"}];\n",
    "var m7 = new web3.eth.Contract(_abiArray, '0x1be2de72761B581b825e874cdAAdd3c56000b3F7');\n",
    "var event = m7.events.Print({fromBlock: 0}, function (error, result) {\n",
    "    if (!error) {\n",
    "        //console.log(\"Event fired: \" + JSON.stringify(result) + \"\\n---> \" + JSON.stringify(result.returnValues));\n",
    "        console.log(\"Event fired: \" + JSON.stringify(result.returnValues));\n",
    "        //process.exit(1);\n",
    "    }\n",
    "});\n",
    "\n",
    "async function doIt() {\n",
    "    const accounts = await web3.eth.getAccounts();\n",
    "    console.log(\"Account: \" + accounts[0]);\n",
    "    const balanceBefore = await web3.eth.getBalance(accounts[0]);\n",
    "    console.log(\"Balance before: \" + balanceBefore);\n",
    "    //const value = m7.methods.multiply(8).call();\n",
    "    const value = m7.methods.multiply(8)\n",
    "        .send({from: accounts[0]})\n",
    "        //.then(function(value) {console.log(\"---> MyFunction called \" + JSON.stringify(value) +\n",
    "        //                               '\\n---> '+ JSON.stringify(value.events.Print.returnValues));});\n",
    "    console.log(\"---> MyFunction called \" + JSON.stringify(value));\n",
    "        //+ '\\n---> '+ JSON.stringify(value.events.Print.returnValues));\n",
    "    const balanceAfter = await web3.eth.getBalance(accounts[0]);\n",
    "    console.log(\"Balance after: \" + balanceAfter);\n",
    "    console.log(\"Balance diff: \" + (balanceBefore - balanceAfter));\n",
    "}\n",
    "\n",
    "doIt()"
   ]
  },
  {
   "cell_type": "code",
   "execution_count": 9,
   "metadata": {},
   "outputs": [
    {
     "name": "stdout",
     "output_type": "stream",
     "text": [
      "Account: 0x0c6128daD2232C486Ed51B64D38E50910039BDBc\n",
      "Balance before: 99999888655000000000\n",
      "---> MyFunction called {\"_events\":{}}\n",
      "Balance after: 99999888655000000000\n",
      "Balance diff: 0\n",
      "Event fired: {\"0\":\"0x0c6128daD2232C486Ed51B64D38E50910039BDBc\",\"1\":\"1591930833\",\"2\":\"56\",\"_addr\":\"0x0c6128daD2232C486Ed51B64D38E50910039BDBc\",\"timestamp\":\"1591930833\",\"res\":\"56\"}\n"
     ]
    }
   ],
   "source": [
    "!node src/Multiply7EventUse.js"
   ]
  },
  {
   "cell_type": "code",
   "execution_count": null,
   "metadata": {},
   "outputs": [],
   "source": []
  }
 ],
 "metadata": {
  "kernelspec": {
   "display_name": "Python 3",
   "language": "python",
   "name": "python3"
  },
  "language_info": {
   "codemirror_mode": {
    "name": "ipython",
    "version": 3
   },
   "file_extension": ".py",
   "mimetype": "text/x-python",
   "name": "python",
   "nbconvert_exporter": "python",
   "pygments_lexer": "ipython3",
   "version": "3.7.6"
  }
 },
 "nbformat": 4,
 "nbformat_minor": 4
}
