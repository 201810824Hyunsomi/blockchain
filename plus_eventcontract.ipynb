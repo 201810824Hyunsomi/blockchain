{
 "cells": [
  {
   "cell_type": "markdown",
   "metadata": {},
   "source": [
    "## 201810824 현소미 12주차 과제"
   ]
  },
  {
   "cell_type": "markdown",
   "metadata": {},
   "source": [
    "## 컨트랙에 이벤트를 추가해서 구현"
   ]
  },
  {
   "cell_type": "code",
   "execution_count": 7,
   "metadata": {},
   "outputs": [
    {
     "name": "stdout",
     "output_type": "stream",
     "text": [
      "Overwriting src/Multiply7Event.sol\n"
     ]
    }
   ],
   "source": [
    "%%writefile src/Multiply7Event.sol\n",
    "pragma solidity ^0.5.10;\n",
    "contract Multiply7Event {\n",
    "    \n",
    "    event Print(address from, uint timestamp, uint result);\n",
    "\n",
    "    function multiply(uint input) public {\n",
    "        7*input;\n",
    "        emit Print(msg.sender, now, 7*input);\n",
    "    }\n",
    "}"
   ]
  },
  {
   "cell_type": "code",
   "execution_count": 8,
   "metadata": {},
   "outputs": [
    {
     "name": "stdout",
     "output_type": "stream",
     "text": [
      "\n",
      "======= src/Multiply7Event.sol:Multiply7Event =======\n",
      "Gas estimation:\n",
      "construction:\n",
      "   105 + 52400 = 52505\n",
      "external:\n",
      "   multiply(uint256):\t1849\n",
      "Binary: \n",
      "6080604052348015600f57600080fd5b506101068061001f6000396000f3fe6080604052348015600f57600080fd5b506004361060285760003560e01c8063c6888fa114602d575b600080fd5b605660048036036020811015604157600080fd5b81019080803590602001909291905050506058565b005b7f91da4985ab616136202f4e81fd2d8cac1eb12591132d609cece407f7c6fb9205334283600702604051808473ffffffffffffffffffffffffffffffffffffffff1673ffffffffffffffffffffffffffffffffffffffff168152602001838152602001828152602001935050505060405180910390a15056fea265627a7a72305820f3f67738d620fa9a8a030e4ea4a01cd4967fb81b877c9af7c1b8c95a471386cc64736f6c634300050a0032\n",
      "Contract JSON ABI \n",
      "[{\"constant\":false,\"inputs\":[{\"name\":\"input\",\"type\":\"uint256\"}],\"name\":\"multiply\",\"outputs\":[],\"payable\":false,\"stateMutability\":\"nonpayable\",\"type\":\"function\"},{\"anonymous\":false,\"inputs\":[{\"indexed\":false,\"name\":\"from\",\"type\":\"address\"},{\"indexed\":false,\"name\":\"timestamp\",\"type\":\"uint256\"},{\"indexed\":false,\"name\":\"result\",\"type\":\"uint256\"}],\"name\":\"Print\",\"type\":\"event\"}]\n"
     ]
    }
   ],
   "source": [
    "!solc --gas --abi --bin src/Multiply7Event.sol"
   ]
  },
  {
   "cell_type": "code",
   "execution_count": 9,
   "metadata": {},
   "outputs": [
    {
     "name": "stdout",
     "output_type": "stream",
     "text": [
      "Overwriting src/Multiply7EventDeploy.js\n"
     ]
    }
   ],
   "source": [
    "%%writefile src/Multiply7EventDeploy.js\n",
    "var Web3 = require('web3');\n",
    "var web3 = new Web3(new Web3.providers.HttpProvider(\"http://localhost:8345\"));\n",
    "//var _abiArray = JSON.parse(_abiStr);\n",
    "var _abiArray =[{\"constant\":false,\"inputs\":[{\"name\":\"input\",\"type\":\"uint256\"}],\"name\":\"multiply\",\"outputs\":[],\"payable\":false,\"stateMutability\":\"nonpayable\",\"type\":\"function\"},{\"anonymous\":false,\"inputs\":[{\"indexed\":false,\"name\":\"from\",\"type\":\"address\"},{\"indexed\":false,\"name\":\"timestamp\",\"type\":\"uint256\"},{\"indexed\":false,\"name\":\"result\",\"type\":\"uint256\"}],\"name\":\"Print\",\"type\":\"event\"}];\n",
    "var _bin = \"0x\" + \"6080604052348015600f57600080fd5b506101068061001f6000396000f3fe6080604052348015600f57600080fd5b506004361060285760003560e01c8063c6888fa114602d575b600080fd5b605660048036036020811015604157600080fd5b81019080803590602001909291905050506058565b005b7f91da4985ab616136202f4e81fd2d8cac1eb12591132d609cece407f7c6fb9205334283600702604051808473ffffffffffffffffffffffffffffffffffffffff1673ffffffffffffffffffffffffffffffffffffffff168152602001838152602001828152602001935050505060405180910390a15056fea265627a7a72305820f3f67738d620fa9a8a030e4ea4a01cd4967fb81b877c9af7c1b8c95a471386cc64736f6c634300050a0032\";\n",
    "//unlock the account with a password provided\n",
    "//web3.personal.unlockAccount(web3.eth.accounts[0],'password');\n",
    "async function deploy() {\n",
    "    const accounts = await web3.eth.getAccounts();\n",
    "    console.log(\"Deploying the contract from \" + accounts[0]);\n",
    "    var deployed = await new web3.eth.Contract(_abiArray)\n",
    "        .deploy({data: _bin})\n",
    "        .send({from: accounts[0], gas: 1000000}, function(err, transactionHash) {\n",
    "                if(!err) console.log(\"hash: \" + transactionHash); \n",
    "        })\n",
    "        //.then(function(newContractInstance){\n",
    "        //    console.log(newContractInstance.options.address)\n",
    "        //});\n",
    "    console.log(\"---> The contract deployed to: \" + deployed.options.address)\n",
    "}\n",
    "deploy()"
   ]
  },
  {
   "cell_type": "code",
   "execution_count": 10,
   "metadata": {},
   "outputs": [
    {
     "name": "stdout",
     "output_type": "stream",
     "text": [
      "Deploying the contract from 0xc85Ea5B8516560Ba5Fc5A9FA10407d70bf8C1B03\n",
      "hash: 0xa83594cc8a7216abfecee723ee4ff2bcbc279064b2e22aab3858ae6857df8743\n",
      "---> The contract deployed to: 0x4eF3925C27cA082f04Ec3B6d9891D4470d4031AB\n"
     ]
    }
   ],
   "source": [
    "!node src/Multiply7EventDeploy.js"
   ]
  },
  {
   "cell_type": "code",
   "execution_count": 11,
   "metadata": {},
   "outputs": [
    {
     "name": "stdout",
     "output_type": "stream",
     "text": [
      "Overwriting src/Multiply7EventUse.js\n"
     ]
    }
   ],
   "source": [
    "%%writefile src/Multiply7EventUse.js\n",
    "var Web3=require('web3');\n",
    "var web3 ;\n",
    "if (typeof web3 !== 'undefined') {\n",
    "    web3 = new Web3(web3.currentProvider);\n",
    "} else {\n",
    "    var web3 = new Web3(new Web3.providers.WebsocketProvider(\"ws://localhost:8345\"));\n",
    "}\n",
    "var _abiArray=[{\"constant\":false,\"inputs\":[{\"name\":\"input\",\"type\":\"uint256\"}],\"name\":\"multiply\",\"outputs\":[],\"payable\":false,\"stateMutability\":\"nonpayable\",\"type\":\"function\"},{\"anonymous\":false,\"inputs\":[{\"indexed\":false,\"name\":\"from\",\"type\":\"address\"},{\"indexed\":false,\"name\":\"timestamp\",\"type\":\"uint256\"},{\"indexed\":false,\"name\":\"result\",\"type\":\"uint256\"}],\"name\":\"Print\",\"type\":\"event\"}];\n",
    "var Multiply7Event = new web3.eth.Contract(_abiArray, \"0x4eF3925C27cA082f04Ec3B6d9891D4470d4031AB\");\n",
    "var event = Multiply7Event.events.Print({fromBlock: 0}, function (error, result) {\n",
    "    if (!error) {\n",
    "        console.log(\"Event fired: \" + JSON.stringify(result) );\n",
    "    }\n",
    "});\n",
    "\n",
    "\n",
    "async function doIt() {\n",
    "    const accounts = await web3.eth.getAccounts();\n",
    "    console.log(\"Account: \" + accounts[0]);\n",
    "    const value = await Multiply7Event.methods.multiply(8).send({from: accounts[0], gas: 3000000 , gasPrice: '1000000000'});\n",
    "    console.log(\"---> myFunction called \"+JSON.stringify(value)+\n",
    "        '\\n---> '+ JSON.stringify(value.events.Print.returnValues));\n",
    "     const value2 = await Multiply7Event.methods.multiply(16).send({from: accounts[0], gas: 3000000 , gasPrice: '1000000000'});\n",
    "    console.log(\"---> myFunction called \"+JSON.stringify(value2)+\n",
    "        '\\n---> '+ JSON.stringify(value2.events.Print.returnValues));\n",
    "\n",
    "    \n",
    "}\n",
    "doIt()"
   ]
  },
  {
   "cell_type": "markdown",
   "metadata": {},
   "source": [
    "## 배포하고 사용한 후 곱셈 결과값과 주소, 시간 출력함"
   ]
  },
  {
   "cell_type": "code",
   "execution_count": 12,
   "metadata": {},
   "outputs": [
    {
     "name": "stdout",
     "output_type": "stream",
     "text": [
      "Account: 0xc85Ea5B8516560Ba5Fc5A9FA10407d70bf8C1B03\n",
      "Event fired: {\"logIndex\":0,\"transactionIndex\":0,\"transactionHash\":\"0x25a66f91db79a30d90ae97b12e68b2dc3322eb9d38475721947a8b13d3760bf9\",\"blockHash\":\"0x49d33a44c27e0f987d7674a42320cf3fd5038a4c5f059223c8b0873c53b3a3cc\",\"blockNumber\":2,\"address\":\"0x4eF3925C27cA082f04Ec3B6d9891D4470d4031AB\",\"type\":\"mined\",\"id\":\"log_3641241c\",\"returnValues\":{\"0\":\"0xc85Ea5B8516560Ba5Fc5A9FA10407d70bf8C1B03\",\"1\":\"1591408650\",\"2\":\"56\",\"from\":\"0xc85Ea5B8516560Ba5Fc5A9FA10407d70bf8C1B03\",\"timestamp\":\"1591408650\",\"result\":\"56\"},\"event\":\"Print\",\"signature\":\"0x91da4985ab616136202f4e81fd2d8cac1eb12591132d609cece407f7c6fb9205\",\"raw\":{\"data\":\"0x000000000000000000000000c85ea5b8516560ba5fc5a9fa10407d70bf8c1b03000000000000000000000000000000000000000000000000000000005edaf80a0000000000000000000000000000000000000000000000000000000000000038\",\"topics\":[\"0x91da4985ab616136202f4e81fd2d8cac1eb12591132d609cece407f7c6fb9205\"]}}\n",
      "---> myFunction called {\"transactionHash\":\"0x25a66f91db79a30d90ae97b12e68b2dc3322eb9d38475721947a8b13d3760bf9\",\"transactionIndex\":0,\"blockHash\":\"0x49d33a44c27e0f987d7674a42320cf3fd5038a4c5f059223c8b0873c53b3a3cc\",\"blockNumber\":2,\"from\":\"0xc85ea5b8516560ba5fc5a9fa10407d70bf8c1b03\",\"to\":\"0x4ef3925c27ca082f04ec3b6d9891d4470d4031ab\",\"gasUsed\":23053,\"cumulativeGasUsed\":23053,\"contractAddress\":null,\"status\":true,\"logsBloom\":\"0x00000000000000000010000000000000000000000000000000000000000000000000000000000000000000000000000000000000000000000000000000000000000000000000010000000000000000000000000000000000000000000000000000000000000000000000000000000000000000000001000000000000000000000000000000000000000000000000000002000000000000000000000000000000000000080000000000000000000000000000000000000000000000000000000000000000000000000000000000000000000000000000000000000000000000000000000000000010000000000000000000000000000000000000000000000000\",\"events\":{\"Print\":{\"logIndex\":0,\"transactionIndex\":0,\"transactionHash\":\"0x25a66f91db79a30d90ae97b12e68b2dc3322eb9d38475721947a8b13d3760bf9\",\"blockHash\":\"0x49d33a44c27e0f987d7674a42320cf3fd5038a4c5f059223c8b0873c53b3a3cc\",\"blockNumber\":2,\"address\":\"0x4eF3925C27cA082f04Ec3B6d9891D4470d4031AB\",\"type\":\"mined\",\"id\":\"log_3641241c\",\"returnValues\":{\"0\":\"0xc85Ea5B8516560Ba5Fc5A9FA10407d70bf8C1B03\",\"1\":\"1591408650\",\"2\":\"56\",\"from\":\"0xc85Ea5B8516560Ba5Fc5A9FA10407d70bf8C1B03\",\"timestamp\":\"1591408650\",\"result\":\"56\"},\"event\":\"Print\",\"signature\":\"0x91da4985ab616136202f4e81fd2d8cac1eb12591132d609cece407f7c6fb9205\",\"raw\":{\"data\":\"0x000000000000000000000000c85ea5b8516560ba5fc5a9fa10407d70bf8c1b03000000000000000000000000000000000000000000000000000000005edaf80a0000000000000000000000000000000000000000000000000000000000000038\",\"topics\":[\"0x91da4985ab616136202f4e81fd2d8cac1eb12591132d609cece407f7c6fb9205\"]}}}}\n",
      "---> {\"0\":\"0xc85Ea5B8516560Ba5Fc5A9FA10407d70bf8C1B03\",\"1\":\"1591408650\",\"2\":\"56\",\"from\":\"0xc85Ea5B8516560Ba5Fc5A9FA10407d70bf8C1B03\",\"timestamp\":\"1591408650\",\"result\":\"56\"}\n",
      "Event fired: {\"logIndex\":0,\"transactionIndex\":0,\"transactionHash\":\"0x95df71b039b4f154c3bc8a67c89bda9c9dd4fe7e3ad61409fe90b08d47ae3356\",\"blockHash\":\"0x76599de3a8cbfaebc97ecda9519d95ab089f67dbe04f3101c10f77259325fdae\",\"blockNumber\":3,\"address\":\"0x4eF3925C27cA082f04Ec3B6d9891D4470d4031AB\",\"type\":\"mined\",\"id\":\"log_9df90576\",\"returnValues\":{\"0\":\"0xc85Ea5B8516560Ba5Fc5A9FA10407d70bf8C1B03\",\"1\":\"1591408650\",\"2\":\"112\",\"from\":\"0xc85Ea5B8516560Ba5Fc5A9FA10407d70bf8C1B03\",\"timestamp\":\"1591408650\",\"result\":\"112\"},\"event\":\"Print\",\"signature\":\"0x91da4985ab616136202f4e81fd2d8cac1eb12591132d609cece407f7c6fb9205\",\"raw\":{\"data\":\"0x000000000000000000000000c85ea5b8516560ba5fc5a9fa10407d70bf8c1b03000000000000000000000000000000000000000000000000000000005edaf80a0000000000000000000000000000000000000000000000000000000000000070\",\"topics\":[\"0x91da4985ab616136202f4e81fd2d8cac1eb12591132d609cece407f7c6fb9205\"]}}\n",
      "---> myFunction called {\"transactionHash\":\"0x95df71b039b4f154c3bc8a67c89bda9c9dd4fe7e3ad61409fe90b08d47ae3356\",\"transactionIndex\":0,\"blockHash\":\"0x76599de3a8cbfaebc97ecda9519d95ab089f67dbe04f3101c10f77259325fdae\",\"blockNumber\":3,\"from\":\"0xc85ea5b8516560ba5fc5a9fa10407d70bf8c1b03\",\"to\":\"0x4ef3925c27ca082f04ec3b6d9891d4470d4031ab\",\"gasUsed\":23053,\"cumulativeGasUsed\":23053,\"contractAddress\":null,\"status\":true,\"logsBloom\":\"0x00000000000000000010000000000000000000000000000000000000000000000000000000000000000000000000000000000000000000000000000000000000000000000000010000000000000000000000000000000000000000000000000000000000000000000000000000000000000000000001000000000000000000000000000000000000000000000000000002000000000000000000000000000000000000080000000000000000000000000000000000000000000000000000000000000000000000000000000000000000000000000000000000000000000000000000000000000010000000000000000000000000000000000000000000000000\",\"events\":{\"Print\":{\"logIndex\":0,\"transactionIndex\":0,\"transactionHash\":\"0x95df71b039b4f154c3bc8a67c89bda9c9dd4fe7e3ad61409fe90b08d47ae3356\",\"blockHash\":\"0x76599de3a8cbfaebc97ecda9519d95ab089f67dbe04f3101c10f77259325fdae\",\"blockNumber\":3,\"address\":\"0x4eF3925C27cA082f04Ec3B6d9891D4470d4031AB\",\"type\":\"mined\",\"id\":\"log_9df90576\",\"returnValues\":{\"0\":\"0xc85Ea5B8516560Ba5Fc5A9FA10407d70bf8C1B03\",\"1\":\"1591408650\",\"2\":\"112\",\"from\":\"0xc85Ea5B8516560Ba5Fc5A9FA10407d70bf8C1B03\",\"timestamp\":\"1591408650\",\"result\":\"112\"},\"event\":\"Print\",\"signature\":\"0x91da4985ab616136202f4e81fd2d8cac1eb12591132d609cece407f7c6fb9205\",\"raw\":{\"data\":\"0x000000000000000000000000c85ea5b8516560ba5fc5a9fa10407d70bf8c1b03000000000000000000000000000000000000000000000000000000005edaf80a0000000000000000000000000000000000000000000000000000000000000070\",\"topics\":[\"0x91da4985ab616136202f4e81fd2d8cac1eb12591132d609cece407f7c6fb9205\"]}}}}\n",
      "---> {\"0\":\"0xc85Ea5B8516560Ba5Fc5A9FA10407d70bf8C1B03\",\"1\":\"1591408650\",\"2\":\"112\",\"from\":\"0xc85Ea5B8516560Ba5Fc5A9FA10407d70bf8C1B03\",\"timestamp\":\"1591408650\",\"result\":\"112\"}\n"
     ]
    }
   ],
   "source": [
    "!node src/Multiply7EventUse.js"
   ]
  }
 ],
 "metadata": {
  "kernelspec": {
   "display_name": "Python 3",
   "language": "python",
   "name": "python3"
  },
  "language_info": {
   "codemirror_mode": {
    "name": "ipython",
    "version": 3
   },
   "file_extension": ".py",
   "mimetype": "text/x-python",
   "name": "python",
   "nbconvert_exporter": "python",
   "pygments_lexer": "ipython3",
   "version": "3.7.6"
  }
 },
 "nbformat": 4,
 "nbformat_minor": 4
}
