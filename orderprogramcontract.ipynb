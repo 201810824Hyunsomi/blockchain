{
 "cells": [
  {
   "cell_type": "markdown",
   "metadata": {},
   "source": [
    "## 13주차 과제 order 프로그램 작성 및 배포 사용"
   ]
  },
  {
   "cell_type": "code",
   "execution_count": 9,
   "metadata": {},
   "outputs": [
    {
     "name": "stdout",
     "output_type": "stream",
     "text": [
      "Overwriting src/Ex13.sol\n"
     ]
    }
   ],
   "source": [
    "\n",
    "%%writefile src/Ex13.sol\n",
    "pragma solidity ^0.5.10;\n",
    "\n",
    "\n",
    "contract OrderEvent {\n",
    "    address owner;\n",
    "    uint balance;\n",
    "    constructor() public {\n",
    "        owner = msg.sender;\n",
    "        balance = 0;\n",
    "    }\n",
    "    uint unitPrice = 1;\n",
    "    event OrderLog(string);\n",
    "    event OrderLog(bytes2 _itemId, uint _value);\n",
    "    event OrderLog(uint256 timestamp);\n",
    "    event OrderLog(address indexed _from, bytes2 _itemId, uint indexed _value,string _to);\n",
    "\n",
    "    function order(bytes2 _itemId, uint quantity,string memory _to) public payable {\n",
    "        uint256 orderTime = now;\n",
    "        uint256 orderAmount = quantity * unitPrice;\n",
    "        require(msg.value == orderAmount);\n",
    "        emit OrderLog(\"Ordered\");\n",
    "        emit OrderLog(orderTime);\n",
    "        emit OrderLog(msg.sender, _itemId, msg.value, _to );\n",
    "    }\n",
    "    function getBalance() public isOwner payable returns(uint) {\n",
    "        return(address(this).balance);\n",
    "    }\n",
    "    modifier isOwner() {\n",
    "        require(msg.sender == owner);\n",
    "        _;\n",
    "    }\n",
    "}"
   ]
  },
  {
   "cell_type": "code",
   "execution_count": 10,
   "metadata": {},
   "outputs": [
    {
     "name": "stdout",
     "output_type": "stream",
     "text": [
      "\n",
      "======= src/Ex13.sol:OrderEvent =======\n",
      "Gas estimation:\n",
      "construction:\n",
      "   45518 + 187000 = 232518\n",
      "external:\n",
      "   getBalance():\t842\n",
      "   order(bytes2,uint256,string):\tinfinite\n",
      "Binary: \n",
      "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\n",
      "Contract JSON ABI \n",
      "[{\"constant\":false,\"inputs\":[],\"name\":\"getBalance\",\"outputs\":[{\"name\":\"\",\"type\":\"uint256\"}],\"payable\":true,\"stateMutability\":\"payable\",\"type\":\"function\"},{\"constant\":false,\"inputs\":[{\"name\":\"_itemId\",\"type\":\"bytes2\"},{\"name\":\"quantity\",\"type\":\"uint256\"},{\"name\":\"_to\",\"type\":\"string\"}],\"name\":\"order\",\"outputs\":[],\"payable\":true,\"stateMutability\":\"payable\",\"type\":\"function\"},{\"inputs\":[],\"payable\":false,\"stateMutability\":\"nonpayable\",\"type\":\"constructor\"},{\"anonymous\":false,\"inputs\":[{\"indexed\":false,\"name\":\"\",\"type\":\"string\"}],\"name\":\"OrderLog\",\"type\":\"event\"},{\"anonymous\":false,\"inputs\":[{\"indexed\":false,\"name\":\"_itemId\",\"type\":\"bytes2\"},{\"indexed\":false,\"name\":\"_value\",\"type\":\"uint256\"}],\"name\":\"OrderLog\",\"type\":\"event\"},{\"anonymous\":false,\"inputs\":[{\"indexed\":false,\"name\":\"timestamp\",\"type\":\"uint256\"}],\"name\":\"OrderLog\",\"type\":\"event\"},{\"anonymous\":false,\"inputs\":[{\"indexed\":true,\"name\":\"_from\",\"type\":\"address\"},{\"indexed\":false,\"name\":\"_itemId\",\"type\":\"bytes2\"},{\"indexed\":true,\"name\":\"_value\",\"type\":\"uint256\"},{\"indexed\":false,\"name\":\"_to\",\"type\":\"string\"}],\"name\":\"OrderLog\",\"type\":\"event\"}]\n"
     ]
    }
   ],
   "source": [
    "!solc --abi --bin --gas src/Ex13.sol"
   ]
  },
  {
   "cell_type": "code",
   "execution_count": 11,
   "metadata": {},
   "outputs": [
    {
     "name": "stdout",
     "output_type": "stream",
     "text": [
      "Overwriting src/Ex13Deploy.js\n"
     ]
    }
   ],
   "source": [
    "\n",
    "%%writefile src/Ex13Deploy.js\n",
    "var Web3=require('web3');\n",
    "var web3 = new Web3(new Web3.providers.HttpProvider(\"http://localhost:8345\"));\n",
    "var _abiArray =[{\"constant\":false,\"inputs\":[],\"name\":\"getBalance\",\"outputs\":[{\"name\":\"\",\"type\":\"uint256\"}],\"payable\":true,\"stateMutability\":\"payable\",\"type\":\"function\"},{\"constant\":false,\"inputs\":[{\"name\":\"_itemId\",\"type\":\"bytes2\"},{\"name\":\"quantity\",\"type\":\"uint256\"},{\"name\":\"_to\",\"type\":\"string\"}],\"name\":\"order\",\"outputs\":[],\"payable\":true,\"stateMutability\":\"payable\",\"type\":\"function\"},{\"inputs\":[],\"payable\":false,\"stateMutability\":\"nonpayable\",\"type\":\"constructor\"},{\"anonymous\":false,\"inputs\":[{\"indexed\":false,\"name\":\"\",\"type\":\"string\"}],\"name\":\"OrderLog\",\"type\":\"event\"},{\"anonymous\":false,\"inputs\":[{\"indexed\":false,\"name\":\"_itemId\",\"type\":\"bytes2\"},{\"indexed\":false,\"name\":\"_value\",\"type\":\"uint256\"}],\"name\":\"OrderLog\",\"type\":\"event\"},{\"anonymous\":false,\"inputs\":[{\"indexed\":false,\"name\":\"timestamp\",\"type\":\"uint256\"}],\"name\":\"OrderLog\",\"type\":\"event\"},{\"anonymous\":false,\"inputs\":[{\"indexed\":true,\"name\":\"_from\",\"type\":\"address\"},{\"indexed\":false,\"name\":\"_itemId\",\"type\":\"bytes2\"},{\"indexed\":true,\"name\":\"_value\",\"type\":\"uint256\"},{\"indexed\":false,\"name\":\"_to\",\"type\":\"string\"}],\"name\":\"OrderLog\",\"type\":\"event\"}];\n",
    "//var _abiArray = JSON.parse(_abiStr);\n",
    "var _bin=\"0x\" + \"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\";\n",
    "\n",
    "//unlock the account with a password provided\n",
    "//web3.personal.unlockAccount(web3.eth.accounts[0],'password');\n",
    "async function deploy() {\n",
    "    const accounts = await web3.eth.getAccounts();\n",
    "    console.log(\"Deploying the contract from \" + accounts[0]);\n",
    "    var deployed = await new web3.eth.Contract(_abiArray)\n",
    "        .deploy({data: _bin})\n",
    "        .send({from: accounts[0], gas: 300000}, function(err, transactionHash) {\n",
    "                if(!err) console.log(\"hash: \" + transactionHash); \n",
    "        })\n",
    "        //.then(function(newContractInstance) {\n",
    "        //    console.log(newContractInstance.options.address)\n",
    "        //});\n",
    "    console.log(\"---> The contract deployed to: \" + deployed.options.address)\n",
    "}\n",
    "\n",
    "deploy()"
   ]
  },
  {
   "cell_type": "code",
   "execution_count": 12,
   "metadata": {},
   "outputs": [
    {
     "name": "stdout",
     "output_type": "stream",
     "text": [
      "Deploying the contract from 0x6c5B24a1Da63b1cCa7DbCf8584149207D101Ef61\n",
      "hash: 0x33d28c412a21549db534ca035486d517d3fbfb65b31dcbdaff97d57bea9cf825\n",
      "---> The contract deployed to: 0xbc4cf7Aa56aD13448C760CCA462486C922e62cC8\n"
     ]
    }
   ],
   "source": [
    "!node src/Ex13Deploy.js"
   ]
  },
  {
   "cell_type": "code",
   "execution_count": 13,
   "metadata": {},
   "outputs": [
    {
     "name": "stdout",
     "output_type": "stream",
     "text": [
      "{\n",
      "  blockHash: \"0xe8e33ae1081f991851a6118dbf97ccfcebdbb175f053e4207fbb16855dcb29d2\",\n",
      "  blockNumber: 1,\n",
      "  contractAddress: \"0xbc4cf7aa56ad13448c760cca462486c922e62cc8\",\n",
      "  cumulativeGasUsed: 297806,\n",
      "  from: \"0x6c5b24a1da63b1cca7dbcf8584149207d101ef61\",\n",
      "  gasUsed: 297806,\n",
      "  logs: [],\n",
      "  logsBloom: \"0x00000000000000000000000000000000000000000000000000000000000000000000000000000000000000000000000000000000000000000000000000000000000000000000000000000000000000000000000000000000000000000000000000000000000000000000000000000000000000000000000000000000000000000000000000000000000000000000000000000000000000000000000000000000000000000000000000000000000000000000000000000000000000000000000000000000000000000000000000000000000000000000000000000000000000000000000000000000000000000000000000000000000000000000000000000000\",\n",
      "  status: \"0x1\",\n",
      "  to: null,\n",
      "  transactionHash: \"0x33d28c412a21549db534ca035486d517d3fbfb65b31dcbdaff97d57bea9cf825\",\n",
      "  transactionIndex: 0\n",
      "}\n"
     ]
    }
   ],
   "source": [
    "!geth --exec \"eth.getTransactionReceipt('0x33d28c412a21549db534ca035486d517d3fbfb65b31dcbdaff97d57bea9cf825')\" attach http://localhost:8345\n"
   ]
  },
  {
   "cell_type": "code",
   "execution_count": 14,
   "metadata": {},
   "outputs": [
    {
     "name": "stdout",
     "output_type": "stream",
     "text": [
      "Overwriting src/Ex13Use.js\n"
     ]
    }
   ],
   "source": [
    "%%writefile src/Ex13Use.js\n",
    "var Web3=require('web3');\n",
    "var web3;\n",
    "var fs=require('fs');\n",
    "if (typeof web3 !== 'undefined') {\n",
    "    web3 = new Web3(web3.currentProvider);\n",
    "} else {\n",
    "    var web3 = new Web3(new Web3.providers.WebsocketProvider(\"http://localhost:8345\"));\n",
    "}\n",
    "var _abiArray =[{\"constant\":false,\"inputs\":[],\"name\":\"getBalance\",\"outputs\":[{\"name\":\"\",\"type\":\"uint256\"}],\"payable\":true,\"stateMutability\":\"payable\",\"type\":\"function\"},{\"constant\":false,\"inputs\":[{\"name\":\"_itemId\",\"type\":\"bytes2\"},{\"name\":\"quantity\",\"type\":\"uint256\"},{\"name\":\"_to\",\"type\":\"string\"}],\"name\":\"order\",\"outputs\":[],\"payable\":true,\"stateMutability\":\"payable\",\"type\":\"function\"},{\"inputs\":[],\"payable\":false,\"stateMutability\":\"nonpayable\",\"type\":\"constructor\"},{\"anonymous\":false,\"inputs\":[{\"indexed\":false,\"name\":\"\",\"type\":\"string\"}],\"name\":\"OrderLog\",\"type\":\"event\"},{\"anonymous\":false,\"inputs\":[{\"indexed\":false,\"name\":\"_itemId\",\"type\":\"bytes2\"},{\"indexed\":false,\"name\":\"_value\",\"type\":\"uint256\"}],\"name\":\"OrderLog\",\"type\":\"event\"},{\"anonymous\":false,\"inputs\":[{\"indexed\":false,\"name\":\"timestamp\",\"type\":\"uint256\"}],\"name\":\"OrderLog\",\"type\":\"event\"},{\"anonymous\":false,\"inputs\":[{\"indexed\":true,\"name\":\"_from\",\"type\":\"address\"},{\"indexed\":false,\"name\":\"_itemId\",\"type\":\"bytes2\"},{\"indexed\":true,\"name\":\"_value\",\"type\":\"uint256\"},{\"indexed\":false,\"name\":\"_to\",\"type\":\"string\"}],\"name\":\"OrderLog\",\"type\":\"event\"}];\n",
    "//var _abiArray=JSON.parse(_abiStr);\n",
    "\n",
    "async function doIt() {\n",
    "    var _order = new web3.eth.Contract(_abiArray, '0xbc4cf7Aa56aD13448C760CCA462486C922e62cC8');\n",
    "    const accounts = await web3.eth.getAccounts();\n",
    "    console.log(\"Account: \" + accounts[0]);\n",
    "    var event = _order.events.OrderLog({\n",
    "            //filter: {_from: accounts[0], _value: [20,50]},\n",
    "            filter: {_from: accounts[0], _value: [3,5,20]},\n",
    "            fromBlock: 'latest', toBlock: 'pending'\n",
    "        }, function (error, result) {\n",
    "        if (!error) {\n",
    "            log =JSON.stringify(result.returnValues);\n",
    "            //console.log(\"Event fired: \" + JSON.stringify(result) + \"\\n---> \" + JSON.stringify(result.returnValues));\n",
    "            console.log(\"Event fired: \" + JSON.stringify(result.returnValues) + \"\\n---> \");\n",
    "          //fs.writeFile(\"src/OrderEvent.txt\",\"\\n\", log, \"utf-8\", function(e) {\n",
    "            fs.appendFile(\"src/OrderEvent.txt\",log+\"\\n\", \"utf-8\", function(e) {\n",
    "                if(!e) {\n",
    "                    console.log(\">> Writing to file\");\n",
    "                }\n",
    "            });\n",
    "        }\n",
    "    });\n",
    "    var value;\n",
    "    const balanceBefore =  await web3.eth.getBalance(accounts[0]);\n",
    "    console.log(\"Balance before: \" + balanceBefore);\n",
    "    // this will fire an event\n",
    "    my =  await _order.methods.order(\"0x1111\", 3, \"20 2-gil Hongji-dong Jongro-gu Seoul\")\n",
    "        .send({from: accounts[0], gas: 100000, value:3});\n",
    "        //.then(function(my) {console.log(\"---> MyFunction called \" + JSON.stringify(my.events.OrderLog.returnValues));});\n",
    "    console.log(\"---> MyFunction called \" + JSON.stringify(my.events.OrderLog.returnValues));\n",
    "    // this will fire another event\n",
    "    my =await _order.methods.order(\"0x1111\", 5,\"20 2-gil Hongji-dong Jongro-gu Seoul\" ).send({from: accounts[0], gas: 100000, value:5});\n",
    "    console.log(\"---> MyFunction called \" + JSON.stringify(my.events.OrderLog.returnValues));\n",
    "    // this will NOT fire another event\n",
    "    my =await _order.methods.order(\"0x1111\", 20,\"20 2-gil Hongji-dong Jongro-gu Seoul\").send({from: accounts[0], gas: 100000, value:20});\n",
    "    console.log(\"---> MyFunction called \" + JSON.stringify(my.events.OrderLog.returnValues));\n",
    "    const balanceAfter = await web3.eth.getBalance(accounts[0]);\n",
    "    console.log(\"Balance after: \" + balanceAfter);\n",
    "    console.log(\"Balance diff: \" + (balanceBefore - balanceAfter));\n",
    "}\n",
    "\n",
    "doIt()"
   ]
  },
  {
   "cell_type": "code",
   "execution_count": 15,
   "metadata": {
    "scrolled": false
   },
   "outputs": [
    {
     "name": "stdout",
     "output_type": "stream",
     "text": [
      "Account: 0x6c5B24a1Da63b1cCa7DbCf8584149207D101Ef61\n",
      "Balance before: 99994043880000000000\n",
      "Event fired: {\"0\":\"0x6c5B24a1Da63b1cCa7DbCf8584149207D101Ef61\",\"1\":\"0x1111\",\"2\":\"3\",\"3\":\"20 2-gil Hongji-dong Jongro-gu Seoul\",\"_from\":\"0x6c5B24a1Da63b1cCa7DbCf8584149207D101Ef61\",\"_itemId\":\"0x1111\",\"_value\":\"3\",\"_to\":\"20 2-gil Hongji-dong Jongro-gu Seoul\"}\n",
      "---> \n",
      ">> Writing to file\n",
      "---> MyFunction called undefined\n",
      "Event fired: {\"0\":\"0x6c5B24a1Da63b1cCa7DbCf8584149207D101Ef61\",\"1\":\"0x1111\",\"2\":\"5\",\"3\":\"20 2-gil Hongji-dong Jongro-gu Seoul\",\"_from\":\"0x6c5B24a1Da63b1cCa7DbCf8584149207D101Ef61\",\"_itemId\":\"0x1111\",\"_value\":\"5\",\"_to\":\"20 2-gil Hongji-dong Jongro-gu Seoul\"}\n",
      "---> \n",
      ">> Writing to file\n",
      "---> MyFunction called undefined\n",
      "Event fired: {\"0\":\"0x6c5B24a1Da63b1cCa7DbCf8584149207D101Ef61\",\"1\":\"0x1111\",\"2\":\"20\",\"3\":\"20 2-gil Hongji-dong Jongro-gu Seoul\",\"_from\":\"0x6c5B24a1Da63b1cCa7DbCf8584149207D101Ef61\",\"_itemId\":\"0x1111\",\"_value\":\"20\",\"_to\":\"20 2-gil Hongji-dong Jongro-gu Seoul\"}\n",
      "---> \n",
      ">> Writing to file\n",
      "---> MyFunction called undefined\n",
      "Balance after: 99992257499999999972\n",
      "Balance diff: 1786380000002048\n"
     ]
    }
   ],
   "source": [
    "!node src/Ex13Use.js"
   ]
  },
  {
   "cell_type": "markdown",
   "metadata": {},
   "source": [
    "## type 명령어 결과 출력"
   ]
  },
  {
   "cell_type": "code",
   "execution_count": 16,
   "metadata": {
    "scrolled": true
   },
   "outputs": [
    {
     "name": "stdout",
     "output_type": "stream",
     "text": [
      "{\"0\":\"0x6c5B24a1Da63b1cCa7DbCf8584149207D101Ef61\",\"1\":\"0x1111\",\"2\":\"3\",\"3\":\"20 2-gil Hongji-dong Jongro-gu Seoul\",\"_from\":\"0x6c5B24a1Da63b1cCa7DbCf8584149207D101Ef61\",\"_itemId\":\"0x1111\",\"_value\":\"3\",\"_to\":\"20 2-gil Hongji-dong Jongro-gu Seoul\"}\n",
      "{\"0\":\"0x6c5B24a1Da63b1cCa7DbCf8584149207D101Ef61\",\"1\":\"0x1111\",\"2\":\"5\",\"3\":\"20 2-gil Hongji-dong Jongro-gu Seoul\",\"_from\":\"0x6c5B24a1Da63b1cCa7DbCf8584149207D101Ef61\",\"_itemId\":\"0x1111\",\"_value\":\"5\",\"_to\":\"20 2-gil Hongji-dong Jongro-gu Seoul\"}\n",
      "{\"0\":\"0x6c5B24a1Da63b1cCa7DbCf8584149207D101Ef61\",\"1\":\"0x1111\",\"2\":\"20\",\"3\":\"20 2-gil Hongji-dong Jongro-gu Seoul\",\"_from\":\"0x6c5B24a1Da63b1cCa7DbCf8584149207D101Ef61\",\"_itemId\":\"0x1111\",\"_value\":\"20\",\"_to\":\"20 2-gil Hongji-dong Jongro-gu Seoul\"}\n"
     ]
    }
   ],
   "source": [
    "!type src\\OrderEvent.txt"
   ]
  }
 ],
 "metadata": {
  "kernelspec": {
   "display_name": "Python 3",
   "language": "python",
   "name": "python3"
  },
  "language_info": {
   "codemirror_mode": {
    "name": "ipython",
    "version": 3
   },
   "file_extension": ".py",
   "mimetype": "text/x-python",
   "name": "python",
   "nbconvert_exporter": "python",
   "pygments_lexer": "ipython3",
   "version": "3.7.6"
  }
 },
 "nbformat": 4,
 "nbformat_minor": 4
}
