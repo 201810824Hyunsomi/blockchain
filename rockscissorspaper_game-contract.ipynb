{
 "cells": [
  {
   "cell_type": "markdown",
   "metadata": {},
   "source": [
    "## rsp 솔리디티 프로그램 작성후 배포\n",
    "## 가위, 바위, 보를 각각 1,2,3로 설정 , play 에 가위 바위 보 승패 계산하는 알고리즘을 생각해 함수 구현\n",
    "## 201810824 현소미"
   ]
  },
  {
   "cell_type": "code",
   "execution_count": 4,
   "metadata": {},
   "outputs": [
    {
     "name": "stdout",
     "output_type": "stream",
     "text": [
      "Overwriting src/Rsp1.sol\n"
     ]
    }
   ],
   "source": [
    "%%writefile src/Rsp1.sol\n",
    "pragma solidity 0.4.25;\n",
    "contract Rsp {\n",
    "    address owner;\n",
    "    mapping (address => uint) balanceOf;\n",
    "    //address payable a_subject;\n",
    "    address b_subject;\n",
    "    uint8 a;\n",
    "    uint8 b;\n",
    "    constructor() public {\n",
    "        owner = msg.sender;\n",
    "    }\n",
    "    function deposit(uint amount) payable public onlyOwner {\n",
    "        balanceOf[msg.sender] += amount;\n",
    "    }\n",
    "     modifier onlyOwner {\n",
    "        require(msg.sender == owner);\n",
    "        _;\n",
    "    }\n",
    "    // forward from owner to another\n",
    "    function forwardTo(address receiver, uint amount) payable public onlyOwner {\n",
    "        require(balanceOf[msg.sender] >= amount);\n",
    "        balanceOf[msg.sender] -= amount; // Subtract from the sender\n",
    "        balanceOf[receiver] += amount;   // Add the same to the recipient\n",
    "    }\n",
    "     function getBalance() public view returns(uint, uint) {\n",
    "        return (address(this).balance, balanceOf[owner]);\n",
    "    }\n",
    "    function getBalanceOf() public view returns (uint) {\n",
    "        return balanceOf[b_subject];\n",
    "    }\n",
    "    function setA() public payable{\n",
    "        a= uint8(uint256(keccak256(abi.encodePacked(block.timestamp, block.difficulty)))%3)+1;\n",
    "    }\n",
    "    function setB(uint8 number) public payable returns(address addr){\n",
    "        b=number;\n",
    "        forwardTo(b_subject,1000);\n",
    "        return b_subject;\n",
    "    }\n",
    "    function showA() public view returns(uint8){\n",
    "        return a;\n",
    "    }\n",
    "    function showB() public view returns(uint8){\n",
    "        return b;\n",
    "    }\n",
    "    function play() public view returns(uint8 ){\n",
    "        uint8 result;\n",
    "        uint8 re=(3+a-b)%3;\n",
    "        if(re==0)   result=0;\n",
    "        else if(re==1)  result=1;\n",
    "        else    result=2;\n",
    "        return result;\n",
    "    }//1=a wins,2=b wins\n",
    "    function distributeBetAmount(uint amount) payable public {\n",
    "        if(play()==1){\n",
    "        balanceOf[owner] += amount; \n",
    "        balanceOf[b_subject] -= amount; \n",
    "        }\n",
    "        else if(play()==2){\n",
    "        balanceOf[owner] -= amount; \n",
    "        balanceOf[b_subject] += amount; \n",
    "        }\n",
    "        else {\n",
    "             balanceOf[owner] ; \n",
    "            balanceOf[b_subject] ; \n",
    "        }\n",
    "    }\n",
    "    function getMatchResult() view public returns(string memory) {\n",
    "        string memory result;\n",
    "        uint8 re=(3+a-b)%3;\n",
    "        if(re==0)   result=\"tie\";\n",
    "        else if(re==1)  result=\"A wins\";\n",
    "        else    result=\"B wins\";\n",
    "        return result;\n",
    "    }\n",
    "}"
   ]
  },
  {
   "cell_type": "code",
   "execution_count": 5,
   "metadata": {},
   "outputs": [],
   "source": [
    "from IPython.display import Image"
   ]
  },
  {
   "cell_type": "code",
   "execution_count": 6,
   "metadata": {},
   "outputs": [
    {
     "name": "stdout",
     "output_type": "stream",
     "text": [
      "\n",
      "======= src/Rsp1.sol:Rsp =======\n",
      "Gas estimation:\n",
      "construction:\n",
      "   20898 + 600400 = 621298\n",
      "external:\n",
      "   deposit(uint256):\t20941\n",
      "   distributeBetAmount(uint256):\tinfinite\n",
      "   forwardTo(address,uint256):\t41642\n",
      "   getBalance():\t1167\n",
      "   getBalanceOf():\t948\n",
      "   getMatchResult():\tinfinite\n",
      "   play():\t1069\n",
      "   setA():\tinfinite\n",
      "   setB(uint8):\t62344\n",
      "   showA():\t610\n",
      "   showB():\t566\n",
      "Binary: \n",
      "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\n",
      "Contract JSON ABI \n",
      "[{\"constant\":true,\"inputs\":[],\"name\":\"getBalance\",\"outputs\":[{\"name\":\"\",\"type\":\"uint256\"},{\"name\":\"\",\"type\":\"uint256\"}],\"payable\":false,\"stateMutability\":\"view\",\"type\":\"function\"},{\"constant\":false,\"inputs\":[{\"name\":\"number\",\"type\":\"uint8\"}],\"name\":\"setB\",\"outputs\":[{\"name\":\"addr\",\"type\":\"address\"}],\"payable\":true,\"stateMutability\":\"payable\",\"type\":\"function\"},{\"constant\":false,\"inputs\":[],\"name\":\"setA\",\"outputs\":[],\"payable\":true,\"stateMutability\":\"payable\",\"type\":\"function\"},{\"constant\":true,\"inputs\":[],\"name\":\"showB\",\"outputs\":[{\"name\":\"\",\"type\":\"uint8\"}],\"payable\":false,\"stateMutability\":\"view\",\"type\":\"function\"},{\"constant\":true,\"inputs\":[],\"name\":\"getMatchResult\",\"outputs\":[{\"name\":\"\",\"type\":\"string\"}],\"payable\":false,\"stateMutability\":\"view\",\"type\":\"function\"},{\"constant\":true,\"inputs\":[],\"name\":\"showA\",\"outputs\":[{\"name\":\"\",\"type\":\"uint8\"}],\"payable\":false,\"stateMutability\":\"view\",\"type\":\"function\"},{\"constant\":true,\"inputs\":[],\"name\":\"play\",\"outputs\":[{\"name\":\"\",\"type\":\"uint8\"}],\"payable\":false,\"stateMutability\":\"view\",\"type\":\"function\"},{\"constant\":false,\"inputs\":[{\"name\":\"amount\",\"type\":\"uint256\"}],\"name\":\"distributeBetAmount\",\"outputs\":[],\"payable\":true,\"stateMutability\":\"payable\",\"type\":\"function\"},{\"constant\":false,\"inputs\":[{\"name\":\"amount\",\"type\":\"uint256\"}],\"name\":\"deposit\",\"outputs\":[],\"payable\":true,\"stateMutability\":\"payable\",\"type\":\"function\"},{\"constant\":false,\"inputs\":[{\"name\":\"receiver\",\"type\":\"address\"},{\"name\":\"amount\",\"type\":\"uint256\"}],\"name\":\"forwardTo\",\"outputs\":[],\"payable\":true,\"stateMutability\":\"payable\",\"type\":\"function\"},{\"constant\":true,\"inputs\":[],\"name\":\"getBalanceOf\",\"outputs\":[{\"name\":\"\",\"type\":\"uint256\"}],\"payable\":false,\"stateMutability\":\"view\",\"type\":\"function\"},{\"inputs\":[],\"payable\":false,\"stateMutability\":\"nonpayable\",\"type\":\"constructor\"}]\n"
     ]
    }
   ],
   "source": [
    "!solc --abi --bin --gas src/Rsp1.sol"
   ]
  },
  {
   "cell_type": "code",
   "execution_count": 8,
   "metadata": {},
   "outputs": [
    {
     "name": "stdout",
     "output_type": "stream",
     "text": [
      "Overwriting src/Rsp1Deploy.js\n"
     ]
    }
   ],
   "source": [
    "%%writefile src/Rsp1Deploy.js\n",
    "var Web3=require('web3');\n",
    "var web3 = new Web3(new Web3.providers.HttpProvider(\"http://localhost:8446\"));\n",
    "var _abiArray =[{\"constant\":true,\"inputs\":[],\"name\":\"getBalance\",\"outputs\":[{\"name\":\"\",\"type\":\"uint256\"},{\"name\":\"\",\"type\":\"uint256\"}],\"payable\":false,\"stateMutability\":\"view\",\"type\":\"function\"},{\"constant\":false,\"inputs\":[{\"name\":\"number\",\"type\":\"uint8\"}],\"name\":\"setB\",\"outputs\":[{\"name\":\"addr\",\"type\":\"address\"}],\"payable\":true,\"stateMutability\":\"payable\",\"type\":\"function\"},{\"constant\":false,\"inputs\":[],\"name\":\"setA\",\"outputs\":[],\"payable\":true,\"stateMutability\":\"payable\",\"type\":\"function\"},{\"constant\":true,\"inputs\":[],\"name\":\"showB\",\"outputs\":[{\"name\":\"\",\"type\":\"uint8\"}],\"payable\":false,\"stateMutability\":\"view\",\"type\":\"function\"},{\"constant\":true,\"inputs\":[],\"name\":\"getMatchResult\",\"outputs\":[{\"name\":\"\",\"type\":\"string\"}],\"payable\":false,\"stateMutability\":\"view\",\"type\":\"function\"},{\"constant\":true,\"inputs\":[],\"name\":\"showA\",\"outputs\":[{\"name\":\"\",\"type\":\"uint8\"}],\"payable\":false,\"stateMutability\":\"view\",\"type\":\"function\"},{\"constant\":true,\"inputs\":[],\"name\":\"play\",\"outputs\":[{\"name\":\"\",\"type\":\"uint8\"}],\"payable\":false,\"stateMutability\":\"view\",\"type\":\"function\"},{\"constant\":false,\"inputs\":[{\"name\":\"amount\",\"type\":\"uint256\"}],\"name\":\"distributeBetAmount\",\"outputs\":[],\"payable\":true,\"stateMutability\":\"payable\",\"type\":\"function\"},{\"constant\":false,\"inputs\":[{\"name\":\"amount\",\"type\":\"uint256\"}],\"name\":\"deposit\",\"outputs\":[],\"payable\":true,\"stateMutability\":\"payable\",\"type\":\"function\"},{\"constant\":false,\"inputs\":[{\"name\":\"receiver\",\"type\":\"address\"},{\"name\":\"amount\",\"type\":\"uint256\"}],\"name\":\"forwardTo\",\"outputs\":[],\"payable\":true,\"stateMutability\":\"payable\",\"type\":\"function\"},{\"constant\":true,\"inputs\":[],\"name\":\"getBalanceOf\",\"outputs\":[{\"name\":\"\",\"type\":\"uint256\"}],\"payable\":false,\"stateMutability\":\"view\",\"type\":\"function\"},{\"inputs\":[],\"payable\":false,\"stateMutability\":\"nonpayable\",\"type\":\"constructor\"}];\n",
    "//var _abiArray = JSON.parse(_abiStr);\n",
    "var _bin=\"0x\" + \"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\";\n",
    "\n",
    "//unlock the account with a password provided\n",
    "//web3.personal.unlockAccount(web3.eth.accounts[0],'password');\n",
    "async function deploy() {\n",
    "    const accounts = await web3.eth.getAccounts();\n",
    "    console.log(\"Deploying the contract from \" + accounts[0]);\n",
    "    new web3.eth.Contract(_abiArray).deploy({data: _bin}).estimateGas(function(err, gas) {\n",
    "        if(!err) console.log(\">> gas: \"+ gas);\n",
    "    });\n",
    "    var deployed = await new web3.eth.Contract(_abiArray)\n",
    "        .deploy({data: _bin})\n",
    "        .send({from: accounts[0], gas: 897428}, function(err, transactionHash) {\n",
    "                if(!err) console.log(\"hash: \" + transactionHash); \n",
    "        })\n",
    "        //.then(function(newContractInstance) {\n",
    "        //    console.log(newContractInstance.options.address)\n",
    "        //});\n",
    "    console.log(\"---> The contract deployed to: \" + deployed.options.address)\n",
    "}\n",
    "\n",
    "deploy()"
   ]
  },
  {
   "cell_type": "code",
   "execution_count": 2,
   "metadata": {},
   "outputs": [
    {
     "name": "stdout",
     "output_type": "stream",
     "text": [
      "{\n",
      "  blockHash: \"0x9ed8626e654679912ed1513937150a39844fcf7f0bd88d35bc9ba81f63a3f849\",\n",
      "  blockNumber: 3500,\n",
      "  contractAddress: \"0xf0e8f343d57f9d5c478b365ffa9a98506ee9bf1e\",\n",
      "  cumulativeGasUsed: 856989,\n",
      "  from: \"0x54e81eae4e6a73a977ee3d56e75df4e02b059455\",\n",
      "  gasUsed: 856989,\n",
      "  logs: [],\n",
      "  logsBloom: \"0x00000000000000000000000000000000000000000000000000000000000000000000000000000000000000000000000000000000000000000000000000000000000000000000000000000000000000000000000000000000000000000000000000000000000000000000000000000000000000000000000000000000000000000000000000000000000000000000000000000000000000000000000000000000000000000000000000000000000000000000000000000000000000000000000000000000000000000000000000000000000000000000000000000000000000000000000000000000000000000000000000000000000000000000000000000000\",\n",
      "  root: \"0xe23083e8f584d0ef31a2a393dff99d8ac9324158888ed1904ae6041716abdc16\",\n",
      "  to: null,\n",
      "  transactionHash: \"0x2c9ed520dc318227bc0818f2a260b2c0ccb14a89e2f0578734db817f42706759\",\n",
      "  transactionIndex: 0\n",
      "}\n"
     ]
    }
   ],
   "source": [
    "!geth --exec \"eth.getTransactionReceipt('0x2c9ed520dc318227bc0818f2a260b2c0ccb14a89e2f0578734db817f42706759')\" attach http://localhost:8446"
   ]
  },
  {
   "cell_type": "code",
   "execution_count": 9,
   "metadata": {
    "scrolled": true
   },
   "outputs": [
    {
     "name": "stdout",
     "output_type": "stream",
     "text": [
      "Deploying the contract from 0x54e81Eae4E6A73a977ee3D56e75DF4e02B059455\n",
      ">> gas: 871138\n",
      "hash: 0xc59ba2633a8a5831e93a4507c92fe5e1bd9e0c6238191dacf97eaa6cda28e555\n",
      "---> The contract deployed to: 0x7daC94CC7c7F806CC68903c9Fb678c664c678b6e\n"
     ]
    }
   ],
   "source": [
    "!node src/Rsp1Deploy.js"
   ]
  },
  {
   "cell_type": "markdown",
   "metadata": {},
   "source": [
    "## use 단계"
   ]
  },
  {
   "cell_type": "code",
   "execution_count": 1,
   "metadata": {},
   "outputs": [
    {
     "name": "stdout",
     "output_type": "stream",
     "text": [
      "Overwriting src/Rsp3Use.js\n"
     ]
    }
   ],
   "source": [
    "%%writefile src/Rsp3Use.js\n",
    "var Web3=require('web3');\n",
    "var web3 = new Web3(new Web3.providers.HttpProvider(\"http://localhost:8446\"));\n",
    "var _abiArray=[{\"constant\":true,\"inputs\":[],\"name\":\"getBalance\",\"outputs\":[{\"name\":\"\",\"type\":\"uint256\"},{\"name\":\"\",\"type\":\"uint256\"}],\"payable\":false,\"stateMutability\":\"view\",\"type\":\"function\"},{\"constant\":false,\"inputs\":[{\"name\":\"number\",\"type\":\"uint8\"}],\"name\":\"setB\",\"outputs\":[{\"name\":\"addr\",\"type\":\"address\"}],\"payable\":true,\"stateMutability\":\"payable\",\"type\":\"function\"},{\"constant\":false,\"inputs\":[],\"name\":\"setA\",\"outputs\":[],\"payable\":true,\"stateMutability\":\"payable\",\"type\":\"function\"},{\"constant\":true,\"inputs\":[],\"name\":\"showB\",\"outputs\":[{\"name\":\"\",\"type\":\"uint8\"}],\"payable\":false,\"stateMutability\":\"view\",\"type\":\"function\"},{\"constant\":true,\"inputs\":[],\"name\":\"getMatchResult\",\"outputs\":[{\"name\":\"\",\"type\":\"string\"}],\"payable\":false,\"stateMutability\":\"view\",\"type\":\"function\"},{\"constant\":true,\"inputs\":[],\"name\":\"showA\",\"outputs\":[{\"name\":\"\",\"type\":\"uint8\"}],\"payable\":false,\"stateMutability\":\"view\",\"type\":\"function\"},{\"constant\":true,\"inputs\":[],\"name\":\"play\",\"outputs\":[{\"name\":\"\",\"type\":\"uint8\"}],\"payable\":false,\"stateMutability\":\"view\",\"type\":\"function\"},{\"constant\":false,\"inputs\":[{\"name\":\"amount\",\"type\":\"uint256\"}],\"name\":\"distributeBetAmount\",\"outputs\":[],\"payable\":true,\"stateMutability\":\"payable\",\"type\":\"function\"},{\"constant\":false,\"inputs\":[{\"name\":\"amount\",\"type\":\"uint256\"}],\"name\":\"deposit\",\"outputs\":[],\"payable\":true,\"stateMutability\":\"payable\",\"type\":\"function\"},{\"constant\":false,\"inputs\":[{\"name\":\"receiver\",\"type\":\"address\"},{\"name\":\"amount\",\"type\":\"uint256\"}],\"name\":\"forwardTo\",\"outputs\":[],\"payable\":true,\"stateMutability\":\"payable\",\"type\":\"function\"},{\"constant\":true,\"inputs\":[],\"name\":\"getBalanceOf\",\"outputs\":[{\"name\":\"\",\"type\":\"uint256\"}],\"payable\":false,\"stateMutability\":\"view\",\"type\":\"function\"},{\"inputs\":[],\"payable\":false,\"stateMutability\":\"nonpayable\",\"type\":\"constructor\"}];\n",
    "web3.eth.personal.unlockAccount(\"0x54e81Eae4E6A73a977ee3D56e75DF4e02B059455\",\"0902\",1000).then(console.log('unlocked!'));\n",
    "var Ex14 = new web3.eth.Contract(_abiArray,\"0x7daC94CC7c7F806CC68903c9Fb678c664c678b6e\");\n",
    "async function doIt() {\n",
    "    const accounts = await web3.eth.getAccounts();\n",
    "    const balanceBefore = await web3.eth.getBalance(accounts[0]);\n",
    "    console.log(\"contract balance: \" + balanceBefore);\n",
    "    console.log(\"contract balance, A balance ?: \");\n",
    "    await Ex14.methods.deposit(2000).send({from:\"0x54e81Eae4E6A73a977ee3D56e75DF4e02B059455\",gas:871138});\n",
    "    await Ex14.methods.getBalance().send({from:\"0x54e81Eae4E6A73a977ee3D56e75DF4e02B059455\",gas:871138});\n",
    "    await Ex14.methods.getBalance().call().then(function(uint) {console.log(uint);});\n",
    "    console.log(\"B balance ?:\");\n",
    "    await Ex14.methods.getBalanceOf().send({from:\"0x54e81Eae4E6A73a977ee3D56e75DF4e02B059455\",gas:871138});\n",
    "    await Ex14.methods.getBalanceOf().call().then(function(uint) {console.log(uint);});\n",
    "    await Ex14.methods.setA().send({from:\"0x54e81Eae4E6A73a977ee3D56e75DF4e02B059455\",gas:871138});\n",
    "    await Ex14.methods.setB(2).send({from:\"0x54e81Eae4E6A73a977ee3D56e75DF4e02B059455\",gas:871138});\n",
    "    console.log(\"B balance ?:\");\n",
    "    await Ex14.methods.getBalanceOf().send({from:\"0x54e81Eae4E6A73a977ee3D56e75DF4e02B059455\",gas:871138});\n",
    "    await Ex14.methods.getBalanceOf().call().then(function(uint) {console.log(uint);});\n",
    "    console.log(\"A rsp value (1=scissors, 2=rock, 3=paper)?:: \");\n",
    "    await Ex14.methods.showA().send({from:\"0x54e81Eae4E6A73a977ee3D56e75DF4e02B059455\",gas:871138});\n",
    "    await Ex14.methods.showA().call().then(function(uint) {console.log(uint);});\n",
    "    console.log(\"B rsp value set to 2(=rock)!(1=scissors, 2=rock, 3=paper)?:: \");\n",
    "    await Ex14.methods.showB().send({from:\"0x54e81Eae4E6A73a977ee3D56e75DF4e02B059455\",gas:871138});\n",
    "    await Ex14.methods.showB().call().then(function(uint) {console.log(uint);});\n",
    "    await Ex14.methods.play().send({from:\"0x54e81Eae4E6A73a977ee3D56e75DF4e02B059455\",gas:871138});\n",
    "    console.log(\"play value(0=tie, 1=a wins, 2=b wins)?::\");\n",
    "    await Ex14.methods.play().call().then(function(uint) {console.log(uint);});\n",
    "    await Ex14.methods.getMatchResult().send({from:\"0x54e81Eae4E6A73a977ee3D56e75DF4e02B059455\",gas:871138});\n",
    "    await Ex14.methods.getMatchResult().call().then(function(str) {console.log(str);});\n",
    "    await Ex14.methods.distributeBetAmount(1000).send({from:\"0x54e81Eae4E6A73a977ee3D56e75DF4e02B059455\",gas:871138});\n",
    "    console.log(\"contract balance, A balance?:\");\n",
    "    await Ex14.methods.getBalance().send({from:\"0x54e81Eae4E6A73a977ee3D56e75DF4e02B059455\",gas:871138});\n",
    "    await Ex14.methods.getBalance().call().then(function(uint) {console.log(uint);});\n",
    "    console.log(\"B balance?:\");\n",
    "    await Ex14.methods.getBalanceOf().send({from:\"0x54e81Eae4E6A73a977ee3D56e75DF4e02B059455\",gas:871138});\n",
    "    await Ex14.methods.getBalanceOf().call().then(function(uint) {console.log(uint);});\n",
    "}\n",
    "\n",
    "doIt()"
   ]
  },
  {
   "cell_type": "markdown",
   "metadata": {},
   "source": [
    "## 처음 a에 2000만큼 금액을 deposit해준후에 setb함수를 불러올때 b에게 1000만큼을 송금하도록 함수를 설계해서 b_balance가 0에서 1000으로 제대로 할당됨을 보였고 , a가 이기자 a의 잔고가 2000으로 늘어나고 b의 잔고는 0이 되어 제대로 금액 전달이 됐음을 확인했습니다. "
   ]
  },
  {
   "cell_type": "code",
   "execution_count": 2,
   "metadata": {},
   "outputs": [
    {
     "name": "stdout",
     "output_type": "stream",
     "text": [
      "unlocked!\n",
      "contract balance: 33090700000000000000000\n",
      "contract balance, A balance ?: \n",
      "Result { '0': '0', '1': '2000' }\n",
      "B balance ?:\n",
      "2000\n",
      "B balance ?:\n",
      "3000\n",
      "A rsp value (1=scissors, 2=rock, 3=paper)?:: \n",
      "1\n",
      "B rsp value set to 2(=rock)!(1=scissors, 2=rock, 3=paper)?:: \n",
      "2\n",
      "play value(0=tie, 1=a wins, 2=b wins)?::\n",
      "2\n",
      "B wins\n",
      "contract balance, A balance?:\n",
      "Result { '0': '0', '1': '0' }\n",
      "B balance?:\n",
      "4000\n"
     ]
    }
   ],
   "source": [
    "!node src/Rsp3Use.js"
   ]
  },
  {
   "cell_type": "code",
   "execution_count": null,
   "metadata": {},
   "outputs": [],
   "source": []
  }
 ],
 "metadata": {
  "kernelspec": {
   "display_name": "Python 3",
   "language": "python",
   "name": "python3"
  },
  "language_info": {
   "codemirror_mode": {
    "name": "ipython",
    "version": 3
   },
   "file_extension": ".py",
   "mimetype": "text/x-python",
   "name": "python",
   "nbconvert_exporter": "python",
   "pygments_lexer": "ipython3",
   "version": "3.7.6"
  }
 },
 "nbformat": 4,
 "nbformat_minor": 4
}
